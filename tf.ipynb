{
 "cells": [
  {
   "cell_type": "code",
   "execution_count": null,
   "metadata": {},
   "outputs": [],
   "source": [
    "from qiskit import QuantumCircuit\n",
    "from qiskit.circuit.library import YGate, UnitaryGate\n",
    "import numpy as np\n",
    "\n",
    "\n",
    "SYGate = UnitaryGate(YGate().power(1/2), label=r\"$\\sqrt{Y}$\")\n",
    "SYdgGate = UnitaryGate(YGate().inverse(), label=r\"$\\sqrt{Y}^\\dag$\")\n",
    "\n",
    "def G1dtft(num_qubits, num_trotter_steps, rx_angle, num_cl_bits = 0, trotter_barriers=False, layer_barriers = False):\n",
    "    qc = QuantumCircuit(num_qubits, num_cl_bits)\n",
    "    if num_cl_bits == 0: \n",
    "        qc = QuantumCircuit(num_qubits)\n",
    "    else:\n",
    "        qc = QuantumCircuit(num_qubits, num_cl_bits)\n",
    "\n",
    "    for trotter_step in range(num_trotter_steps):\n",
    "        add_1dtft(qc, rx_angle, layer_barriers)\n",
    "\n",
    "        if trotter_barriers:\n",
    "            qc.barrier()\n",
    "            \n",
    "    return qc\n",
    "\n",
    "def add_1dtft(qc,rx_angle, layer_barriers = False):\n",
    "    for i in range(0,qc.num_qubits-1,2):\n",
    "        qc.sdg([i, i+1])\n",
    "        qc.append(SYGate,[i+1])\n",
    "        qc.cx(i,[i+1])\n",
    "        qc.append(SYdgGate,[i+1])\n",
    "    \n",
    "    if layer_barriers:\n",
    "        qc.barrier()\n",
    "\n",
    "    for i in range(1,qc.num_qubits-1,2):\n",
    "        qc.sdg([i, i+1])\n",
    "        qc.append(SYGate,[i+1])\n",
    "        qc.cx(i,[i+1])\n",
    "        qc.append(SYdgGate,[i+1])\n",
    "\n",
    "    if layer_barriers:\n",
    "        qc.barrier()\n",
    "\n",
    "    qc.rx(rx_angle,list(range(qc.num_qubits)))\n",
    "\n",
    "    if layer_barriers:\n",
    "        qc.barrier()\n",
    "\n",
    "\n"
   ]
  },
  {
   "cell_type": "code",
   "execution_count": null,
   "metadata": {},
   "outputs": [],
   "source": [
    "num_qubits = 6\n",
    "\n",
    "num_trotter_steps = 1\n",
    "\n",
    "rx_angle = 0.5* np.pi\n",
    "\n",
    "qc = G1dtft(num_qubits,num_trotter_steps,rx_angle,trotter_barriers=True, layer_barriers = True)\n",
    "qc.draw(output=\"mpl\",fold=-1)"
   ]
  },
  {
   "cell_type": "markdown",
   "metadata": {},
   "source": [
    "# demo: sampler"
   ]
  },
  {
   "cell_type": "code",
   "execution_count": null,
   "metadata": {},
   "outputs": [],
   "source": [
    "from qiskit import QuantumCircuit\n",
    "from qiskit.circuit.library import YGate, UnitaryGate\n",
    "import numpy as np\n",
    "\n",
    "\n",
    "SYGate = UnitaryGate(YGate().power(1/2), label=r\"$\\sqrt{Y}$\")\n",
    "SYdgGate = UnitaryGate(YGate().inverse(), label=r\"$\\sqrt{Y}^\\dag$\")\n",
    "\n",
    "def mirror_G1dtft(qc, num_qubits, num_trotter_steps, rx_angle, trotter_barriers=False, layer_barriers = False):\n",
    "\n",
    "    for trotter_step in range(num_trotter_steps):\n",
    "        add_mirror_1dtft(qc, rx_angle, layer_barriers)\n",
    "\n",
    "        if trotter_barriers:\n",
    "            qc.barrier()\n",
    "\n",
    "def add_mirror_1dtft(qc,rx_angle, layer_barriers = False):\n",
    "\n",
    "    qc.rx(-rx_angle,list(range(qc.num_qubits)))\n",
    "\n",
    "    if layer_barriers:\n",
    "        qc.barrier()\n",
    "\n",
    "    for i in range(1,qc.num_qubits-1,2):\n",
    "        qc.append(SYGate,[i+1])\n",
    "        qc.cx(i,[i+1])\n",
    "        qc.append(SYdgGate,[i+1])\n",
    "        qc.s([i, i+1])\n",
    "\n",
    "    if layer_barriers:\n",
    "        qc.barrier()\n",
    "\n",
    "    for i in range(0,qc.num_qubits-1,2):\n",
    "        qc.append(SYGate,[i+1])\n",
    "        qc.cx(i,[i+1])\n",
    "        qc.append(SYdgGate,[i+1])\n",
    "        qc.s([i, i+1])   \n",
    "    \n",
    "        \n",
    "\n",
    "    if layer_barriers:\n",
    "        qc.barrier()\n",
    "\n"
   ]
  },
  {
   "cell_type": "code",
   "execution_count": null,
   "metadata": {},
   "outputs": [],
   "source": [
    "mirror_G1dtft(qc, num_qubits, num_trotter_steps, rx_angle, trotter_barriers=True, layer_barriers = True)\n",
    "qc.draw(output='mpl',fold=1)"
   ]
  },
  {
   "cell_type": "markdown",
   "metadata": {},
   "source": [
    "# Map the circuits and observables"
   ]
  },
  {
   "cell_type": "code",
   "execution_count": null,
   "metadata": {},
   "outputs": [],
   "source": [
    "max_trotter_steps = 100\n",
    "num_qubits = 100\n",
    "\n",
    "measured_qubits = [49, 50]\n",
    "\n",
    "qc_list = []\n",
    "for trotter_step in range(max_trotter_steps):\n",
    "    qc = G1dtft(num_qubits, num_trotter_steps, rx_angle, num_cl_bits=len(measured_qubits),trotter_barriers=True, layer_barriers = True)\n",
    "    mirror_G1dtft(qc, num_qubits, num_trotter_steps, rx_angle, trotter_barriers=True, layer_barriers = True)\n",
    "    qc.measure(measured_qubits, list(range(len(measured_qubits))))\n",
    "    qc_list.append(qc)"
   ]
  },
  {
   "cell_type": "markdown",
   "metadata": {},
   "source": [
    "# step 2: optimization"
   ]
  },
  {
   "cell_type": "code",
   "execution_count": null,
   "metadata": {},
   "outputs": [],
   "source": [
    "from qiskit import transpile\n",
    "from qiskit_ibm_runtime import QiskitRuntimeService\n",
    "\n",
    "backend_name = \"ibm_torino\"\n",
    "service = QiskitRuntimeService()\n",
    "\n",
    "backend = service.backend(backend_name)\n",
    "\n",
    "qc_transpiled_list = transpile(qc_list, backend=backend, optimization_level=1)"
   ]
  },
  {
   "cell_type": "markdown",
   "metadata": {},
   "source": [
    "# Step 3: Execute on hardware"
   ]
  },
  {
   "cell_type": "code",
   "execution_count": null,
   "metadata": {},
   "outputs": [],
   "source": [
    "from qiskit_ibm_runtime import SamplerV2 as Sampler\n",
    "from qiskit_ibm_runtime.options.sampler_options import SamplerOptions\n",
    "\n",
    "sampler = Sampler(mode=backend)\n",
    "sampler.options.dynamical_decoupling.enable = True\n",
    "sampler.options.dynamical_decoupling.sequence_type = \"XY4\"\n",
    "\n",
    "job = sampler.run(qc_transpiled_list)\n",
    "job_id = job.job_id()\n",
    "print(job_id)"
   ]
  },
  {
   "cell_type": "markdown",
   "metadata": {},
   "source": [
    "# Post Processing"
   ]
  },
  {
   "cell_type": "code",
   "execution_count": 3,
   "metadata": {},
   "outputs": [],
   "source": [
    "from qiskit_ibm_runtime import QiskitRuntimeService\n",
    "survival_probability_list = []\n",
    "max_trotter_steps = 100\n",
    "\n",
    "service = QiskitRuntimeService()\n",
    "job = service.job(\"ct57kc5kmkz00086mjz0\")\n",
    "for trotter_step in range(max_trotter_steps):\n",
    "    try:\n",
    "        data = job.result()[trotter_step].data\n",
    "        survival_probability_list.append(data.c.get_counts()[\"0\" * len(measured_qubits)]/data.c.num_shots)\n",
    "    except:\n",
    "        survival_probability_list.append(0)"
   ]
  },
  {
   "cell_type": "code",
   "execution_count": 5,
   "metadata": {},
   "outputs": [
    {
     "data": {
      "text/plain": [
       "<function matplotlib.pyplot.show(close=None, block=None)>"
      ]
     },
     "execution_count": 5,
     "metadata": {},
     "output_type": "execute_result"
    },
    {
     "data": {
      "image/png": "[encoded data removed]",
      "text/plain": [
       "<Figure size 640x480 with 1 Axes>"
      ]
     },
     "metadata": {},
     "output_type": "display_data"
    }
   ],
   "source": [
    "import matplotlib.pyplot as plt\n",
    "import numpy as np\n",
    "plt.plot(list(range(0, 4 * max_trotter_steps, 4)), survival_probability_list, \"--o\")\n",
    "\n",
    "plt.xlabel(\"2Q Gate Depth\")\n",
    "plt.ylabel(\"Survival Probability of the all-0 bitstring\")\n",
    "plt.xticks(np.arange(0, 44, 4))\n",
    "plt.show"
   ]
  }
 ],
 "metadata": {
  "kernelspec": {
   "display_name": "cwq",
   "language": "python",
   "name": "python3"
  },
  "language_info": {
   "codemirror_mode": {
    "name": "ipython",
    "version": 3
   },
   "file_extension": ".py",
   "mimetype": "text/x-python",
   "name": "python",
   "nbconvert_exporter": "python",
   "pygments_lexer": "ipython3",
   "version": "3.12.4"
  }
 },
 "nbformat": 4,
 "nbformat_minor": 2
}
